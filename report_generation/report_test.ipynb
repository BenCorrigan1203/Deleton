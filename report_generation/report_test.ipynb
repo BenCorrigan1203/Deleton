{
 "cells": [
  {
   "cell_type": "code",
   "execution_count": 2,
   "metadata": {},
   "outputs": [],
   "source": [
    "import plotly.express as px\n",
    "from sqlalchemy import create_engine, engine\n",
    "import pandas as pd\n",
    "import numpy as np\n",
    "import codecs\n",
    "import re\n"
   ]
  },
  {
   "cell_type": "code",
   "execution_count": 3,
   "metadata": {},
   "outputs": [],
   "source": [
    "data = [\"2023-05-22 06:45:34.22222\", \"2019-05-22 15:45:34.22222\", \"2015-05-22 20:45:34.22222\", \"2010-05-22 14:45:34.22222\"]\n",
    "riders_day_df = pd.DataFrame(data, columns=['start_time'])\n",
    "total = riders_day_df[\"start_time\"].count()\n",
    "print_line = f\"Total number of riders in the last 24 hours: {total}\"\n"
   ]
  },
  {
   "cell_type": "code",
   "execution_count": 6,
   "metadata": {},
   "outputs": [],
   "source": [
    "data = [[\"2023-05-22 06:45:34.22222\", \"male\"], [\"2019-05-22 15:45:34.22222\", \"male\"], [\"2015-05-22 20:45:34.22222\", \"female\"], [\"2010-05-22 14:45:34.22222\", \"male\"]]\n",
    "riders_day_gender_df = pd.DataFrame(data, columns=['start_time', 'gender'])\n",
    "gender_count = riders_day_gender_df.groupby('gender')['start_time'].count().reset_index(name='count')\n",
    "fig = px.bar(gender_count, x = 'gender', y = 'count', title=\"Gender split between riders in the last 24 hours\")\n",
    "# fig.update_layout(\n",
    "#     xaxis_title='Gender',\n",
    "#     yaxis_title='Count'\n",
    "# )"
   ]
  },
  {
   "cell_type": "code",
   "execution_count": 7,
   "metadata": {},
   "outputs": [
    {
     "name": "stdout",
     "output_type": "stream",
     "text": [
      "                  start_time        dob   age\n",
      "0 2023-05-16 06:45:34.222220 2000-04-22  23.0\n",
      "1 2023-05-16 15:45:34.222220 1992-08-10  30.0\n",
      "2 2023-05-16 20:45:34.222220 2004-06-14  18.0\n",
      "3 2023-05-16 14:45:34.222220 1999-12-25  23.0\n"
     ]
    }
   ],
   "source": [
    "data = [[\"2023-05-16 06:45:34.22222\", \"2000-04-22\"], [\"2023-05-16 15:45:34.22222\", \"1992-08-10\"], [\"2023-05-16 20:45:34.22222\", \"2004-06-14\"], [\"2023-05-16 14:45:34.22222\", \"1999-12-25\"]]\n",
    "riders_day_gender_df = pd.DataFrame(data, columns=['start_time', 'dob'])\n",
    "riders_day_gender_df['start_time'] = pd.to_datetime(riders_day_gender_df['start_time'])\n",
    "riders_day_gender_df['dob'] = pd.to_datetime(riders_day_gender_df['dob'])\n",
    "riders_day_gender_df['age'] = ((riders_day_gender_df['start_time'] - riders_day_gender_df['dob']).dt.days.astype(float)) * 0.00273973 #converts to normal number\n",
    "riders_day_gender_df['age'] = riders_day_gender_df['age'].apply(np.floor)\n",
    "print(riders_day_gender_df)"
   ]
  },
  {
   "cell_type": "code",
   "execution_count": 9,
   "metadata": {},
   "outputs": [],
   "source": [
    "bins = [10, 20, 30, 40, 50, 60, 70, 105]\n",
    "labels = ['10-20', '21-30', '31-40', '41-50', '51-60', '61-70', '71+']\n",
    "age_groups = pd.cut(riders_day_gender_df['age'], bins=bins, labels=labels, right=True)\n",
    "age_group_count = riders_day_gender_df.groupby([age_groups])['start_time'].count().reset_index(name='count')\n",
    "age_fig = px.bar(age_group_count, x = 'age', y = 'count', title=\"Age group split between riders in the last 24 hours\")\n",
    "# age_fig.update_layout(\n",
    "#     xaxis_title='Age',\n",
    "#     yaxis_title='Count'\n",
    "# )"
   ]
  },
  {
   "cell_type": "code",
   "execution_count": 10,
   "metadata": {},
   "outputs": [
    {
     "name": "stdout",
     "output_type": "stream",
     "text": [
      "Total number of riders in the last 24 hours: 4\n"
     ]
    }
   ],
   "source": [
    "data = [[\"2023-05-16 06:45:34.22222\", \"84\", \"11.22896664\"], [\"2023-05-16 15:45:34.22222\", \"85\", \"12.54785501\"], [\"2023-05-16 20:45:34.22222\", \"63\", \"1.648772319\"], [\"2023-05-16 14:45:34.22222\", \"72\", \"8.962429663\"]]\n",
    "riders_day_reading_df = pd.DataFrame(data, columns=['start_time', 'avg_heart_rate', 'avg_power'])\n",
    "heart_fig = px.scatter(riders_day_reading_df, x=\"start_time\", y=\"avg_heart_rate\", color=\"avg_heart_rate\", title=\"Average heart rate in the past day\")\n",
    "heart_fig.update_layout(\n",
    "xaxis_title =\"Time\",\n",
    "yaxis_title =\"Heart rate\"\n",
    ")\n",
    "power_fig = px.scatter(riders_day_reading_df, x=\"start_time\", y=\"avg_power\", color=\"avg_power\", title=\"Average power in the past day\")\n",
    "power_fig.update_layout(\n",
    "xaxis_title =\"Time\",\n",
    "yaxis_title =\"Power\"\n",
    ")\n",
    "with open('report_graph.html', 'w') as f:\n",
    "    f.write(f\"<html>\\n<head>\\n<title>Daily Report</title>\\n</head>\\n<body>\\n<h1>Daily report</h1>\\n<p1>{print_line}</p1>\")\n",
    "    f.write(fig.to_html(full_html=False, include_plotlyjs='cdn'))\n",
    "    f.write(age_fig.to_html(full_html=False, include_plotlyjs='cdn'))\n",
    "    f.write(heart_fig.to_html(full_html=False, include_plotlyjs='cdn'))\n",
    "    f.write(power_fig.to_html(full_html=False, include_plotlyjs='cdn'))\n",
    "    f.write(\"\\n</body>\\n</html>\")\n",
    "\n",
    "print(print_line)"
   ]
  }
 ],
 "metadata": {
  "kernelspec": {
   "display_name": "venv",
   "language": "python",
   "name": "python3"
  },
  "language_info": {
   "codemirror_mode": {
    "name": "ipython",
    "version": 3
   },
   "file_extension": ".py",
   "mimetype": "text/x-python",
   "name": "python",
   "nbconvert_exporter": "python",
   "pygments_lexer": "ipython3",
   "version": "3.10.9 (main, Dec 15 2022, 10:44:50) [Clang 14.0.0 (clang-1400.0.29.202)]"
  },
  "orig_nbformat": 4,
  "vscode": {
   "interpreter": {
    "hash": "b7124a9e3ee4080bb1cf1aa993acb7c0fba0fc2446534e8d6c597540f0910bad"
   }
  }
 },
 "nbformat": 4,
 "nbformat_minor": 2
}
