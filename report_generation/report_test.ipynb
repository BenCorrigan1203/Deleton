{
 "cells": [
  {
   "cell_type": "code",
   "execution_count": 1,
   "metadata": {},
   "outputs": [],
   "source": [
    "import plotly.express as px\n",
    "from sqlalchemy import create_engine, engine\n",
    "import pandas as pd\n",
    "import numpy as np\n",
    "import boto3\n",
    "import os\n",
    "from dotenv import dotenv_values, load_dotenv\n"
   ]
  },
  {
   "cell_type": "code",
   "execution_count": 2,
   "metadata": {},
   "outputs": [],
   "source": [
    "data = [\"2023-05-22 06:45:34.22222\", \"2019-05-22 15:45:34.22222\", \"2015-05-22 20:45:34.22222\", \"2010-05-22 14:45:34.22222\"]\n",
    "riders_day_df = pd.DataFrame(data, columns=['start_time'])\n",
    "total = riders_day_df[\"start_time\"].count()\n",
    "print_line = f\"Total number of riders in the last 24 hours: {total}\"\n"
   ]
  },
  {
   "cell_type": "code",
   "execution_count": 3,
   "metadata": {},
   "outputs": [],
   "source": [
    "data = [[\"2023-05-22 06:45:34.22222\", \"male\"], [\"2019-05-22 15:45:34.22222\", \"male\"], [\"2015-05-22 20:45:34.22222\", \"female\"], [\"2010-05-22 14:45:34.22222\", \"male\"]]\n",
    "riders_day_gender_df = pd.DataFrame(data, columns=['start_time', 'gender'])\n",
    "gender_count = riders_day_gender_df.groupby('gender')['start_time'].count().reset_index(name='count')\n",
    "fig = px.bar(gender_count, x = 'gender', y = 'count', title=\"Gender split between riders in the last 24 hours\")\n",
    "# fig.update_layout(\n",
    "#     xaxis_title='Gender',\n",
    "#     yaxis_title='Count'\n",
    "# )"
   ]
  },
  {
   "cell_type": "code",
   "execution_count": 4,
   "metadata": {},
   "outputs": [
    {
     "name": "stdout",
     "output_type": "stream",
     "text": [
      "                  start_time        dob   age\n",
      "0 2023-05-16 06:45:34.222220 2000-04-22  23.0\n",
      "1 2023-05-16 15:45:34.222220 1992-08-10  30.0\n",
      "2 2023-05-16 20:45:34.222220 2004-06-14  18.0\n",
      "3 2023-05-16 14:45:34.222220 1999-12-25  23.0\n"
     ]
    }
   ],
   "source": [
    "data = [[\"2023-05-16 06:45:34.22222\", \"2000-04-22\"], [\"2023-05-16 15:45:34.22222\", \"1992-08-10\"], [\"2023-05-16 20:45:34.22222\", \"2004-06-14\"], [\"2023-05-16 14:45:34.22222\", \"1999-12-25\"]]\n",
    "riders_day_gender_df = pd.DataFrame(data, columns=['start_time', 'dob'])\n",
    "riders_day_gender_df['start_time'] = pd.to_datetime(riders_day_gender_df['start_time'])\n",
    "riders_day_gender_df['dob'] = pd.to_datetime(riders_day_gender_df['dob'])\n",
    "riders_day_gender_df['age'] = ((riders_day_gender_df['start_time'] - riders_day_gender_df['dob']).dt.days.astype(float)) * 0.00273973 #converts to normal number\n",
    "riders_day_gender_df['age'] = riders_day_gender_df['age'].apply(np.floor)\n",
    "print(riders_day_gender_df)"
   ]
  },
  {
   "cell_type": "code",
   "execution_count": 5,
   "metadata": {},
   "outputs": [],
   "source": [
    "bins = [10, 20, 30, 40, 50, 60, 70, 105]\n",
    "labels = ['10-20', '21-30', '31-40', '41-50', '51-60', '61-70', '71+']\n",
    "age_groups = pd.cut(riders_day_gender_df['age'], bins=bins, labels=labels, right=True)\n",
    "age_group_count = riders_day_gender_df.groupby([age_groups])['start_time'].count().reset_index(name='count')\n",
    "age_fig = px.bar(age_group_count, x = 'age', y = 'count', title=\"Age group split between riders in the last 24 hours\")\n",
    "# age_fig.update_layout(\n",
    "#     xaxis_title='Age',\n",
    "#     yaxis_title='Count'\n",
    "# )"
   ]
  },
  {
   "cell_type": "code",
   "execution_count": 6,
   "metadata": {},
   "outputs": [
    {
     "name": "stdout",
     "output_type": "stream",
     "text": [
      "Total number of riders in the last 24 hours: 4\n"
     ]
    }
   ],
   "source": [
    "data = [[\"2023-05-16 06:45:34.22222\", \"84\", \"11.22896664\"], [\"2023-05-16 15:45:34.22222\", \"85\", \"12.54785501\"], [\"2023-05-16 20:45:34.22222\", \"63\", \"1.648772319\"], [\"2023-05-16 14:45:34.22222\", \"72\", \"8.962429663\"]]\n",
    "riders_day_reading_df = pd.DataFrame(data, columns=['start_time', 'avg_heart_rate', 'avg_power'])\n",
    "heart_fig = px.scatter(riders_day_reading_df, x=\"start_time\", y=\"avg_heart_rate\", color=\"avg_heart_rate\", title=\"Average heart rate in the past day\")\n",
    "heart_fig.update_layout(\n",
    "xaxis_title =\"Time\",\n",
    "yaxis_title =\"Heart rate\"\n",
    ")\n",
    "power_fig = px.scatter(riders_day_reading_df, x=\"start_time\", y=\"avg_power\", color=\"avg_power\", title=\"Average power in the past day\")\n",
    "power_fig.update_layout(\n",
    "xaxis_title =\"Time\",\n",
    "yaxis_title =\"Power\"\n",
    ")\n",
    "with open('report_graph.html', 'w') as f:\n",
    "    f.write(f'<html>\\n<head>\\n<title>Daily Report</title>\\n<link rel=\"stylesheet\" href=\"./style.css\">\\n</head>\\n<body>\\n<div class=\"heading\">\\n<h1>Daily report</h1>\\n<p1>{print_line}</p1>\\n</div>\\n<div class=\"container\" >')\n",
    "    f.write(fig.to_html(full_html=False, include_plotlyjs='cdn'))\n",
    "    f.write(age_fig.to_html(full_html=False, include_plotlyjs='cdn'))\n",
    "    f.write(heart_fig.to_html(full_html=False, include_plotlyjs='cdn'))\n",
    "    f.write(power_fig.to_html(full_html=False, include_plotlyjs='cdn'))\n",
    "    f.write(\"\\n</body>\\n</html>\")\n",
    "\n",
    "print(print_line)"
   ]
  },
  {
   "cell_type": "code",
   "execution_count": 34,
   "metadata": {},
   "outputs": [],
   "source": [
    "fig.write_image(\"gender_split.png\")\n",
    "age_fig.write_image(\"age.png\")\n",
    "heart_fig.write_image(\"heart.png\")\n",
    "power_fig.write_image(\"power.png\")\n",
    "html_content = f'<html>\\n<head>\\n<title>Daily Report</title>\\n<link rel=\"stylesheet\" href=\"./style.css\">\\n</head>\\n<body>\\n<div class=\"heading\">\\n<h1>Daily report</h1>\\n<p1>{print_line}</p1>\\n</div>\\n<div class=\"container\" ><img src=\"./gender_split.jpeg\"></div>'"
   ]
  },
  {
   "cell_type": "code",
   "execution_count": 20,
   "metadata": {},
   "outputs": [],
   "source": [
    "with open('report_graph_2.html', 'w') as f:\n",
    "    f.write(html_content)\n",
    "    f.write(\"\\n</body>\\n</html>\")"
   ]
  },
  {
   "cell_type": "code",
   "execution_count": 24,
   "metadata": {},
   "outputs": [
    {
     "name": "stdout",
     "output_type": "stream",
     "text": [
      "before\n"
     ]
    },
    {
     "ename": "ParamValidationError",
     "evalue": "Parameter validation failed:\nUnknown parameter in Message: \"Attachments\", must be one of: Subject, Body",
     "output_type": "error",
     "traceback": [
      "\u001b[0;31m---------------------------------------------------------------------------\u001b[0m",
      "\u001b[0;31mParamValidationError\u001b[0m                      Traceback (most recent call last)",
      "Cell \u001b[0;32mIn[24], line 14\u001b[0m\n\u001b[1;32m     12\u001b[0m message \u001b[39m=\u001b[39m {\u001b[39m\"\u001b[39m\u001b[39mSubject\u001b[39m\u001b[39m\"\u001b[39m: {\u001b[39m\"\u001b[39m\u001b[39mData\u001b[39m\u001b[39m\"\u001b[39m: \u001b[39m\"\u001b[39m\u001b[39mFile attached\u001b[39m\u001b[39m\"\u001b[39m}, \u001b[39m\"\u001b[39m\u001b[39mBody\u001b[39m\u001b[39m\"\u001b[39m: {\u001b[39m\"\u001b[39m\u001b[39mHtml\u001b[39m\u001b[39m\"\u001b[39m: {\u001b[39m\"\u001b[39m\u001b[39mData\u001b[39m\u001b[39m\"\u001b[39m: html_content,}},\u001b[39m'\u001b[39m\u001b[39mAttachments\u001b[39m\u001b[39m'\u001b[39m :[{\u001b[39m'\u001b[39m\u001b[39mFilename\u001b[39m\u001b[39m'\u001b[39m: \u001b[39m'\u001b[39m\u001b[39mgender_split.png\u001b[39m\u001b[39m'\u001b[39m, \u001b[39m'\u001b[39m\u001b[39mContent\u001b[39m\u001b[39m'\u001b[39m:png_data, \u001b[39m'\u001b[39m\u001b[39mContentType\u001b[39m\u001b[39m'\u001b[39m: \u001b[39m'\u001b[39m\u001b[39mimage/png\u001b[39m\u001b[39m'\u001b[39m, },]}\n\u001b[1;32m     13\u001b[0m \u001b[39m# message['Attachments'] =  [{'Filename': 'gender_split.png', 'Content':png_data, 'ContentType': 'image/png', },]\u001b[39;00m\n\u001b[0;32m---> 14\u001b[0m ses\u001b[39m.\u001b[39;49msend_email(Source\u001b[39m=\u001b[39;49m\u001b[39m\"\u001b[39;49m\u001b[39mtrainee.dani.rahulan@sigmalabs.co.uk\u001b[39;49m\u001b[39m\"\u001b[39;49m, Destination\u001b[39m=\u001b[39;49memail_recipients, Message\u001b[39m=\u001b[39;49mmessage)\n",
      "File \u001b[0;32m~/Deleton/venv/lib/python3.10/site-packages/botocore/client.py:530\u001b[0m, in \u001b[0;36mClientCreator._create_api_method.<locals>._api_call\u001b[0;34m(self, *args, **kwargs)\u001b[0m\n\u001b[1;32m    526\u001b[0m     \u001b[39mraise\u001b[39;00m \u001b[39mTypeError\u001b[39;00m(\n\u001b[1;32m    527\u001b[0m         \u001b[39mf\u001b[39m\u001b[39m\"\u001b[39m\u001b[39m{\u001b[39;00mpy_operation_name\u001b[39m}\u001b[39;00m\u001b[39m() only accepts keyword arguments.\u001b[39m\u001b[39m\"\u001b[39m\n\u001b[1;32m    528\u001b[0m     )\n\u001b[1;32m    529\u001b[0m \u001b[39m# The \"self\" in this scope is referring to the BaseClient.\u001b[39;00m\n\u001b[0;32m--> 530\u001b[0m \u001b[39mreturn\u001b[39;00m \u001b[39mself\u001b[39;49m\u001b[39m.\u001b[39;49m_make_api_call(operation_name, kwargs)\n",
      "File \u001b[0;32m~/Deleton/venv/lib/python3.10/site-packages/botocore/client.py:923\u001b[0m, in \u001b[0;36mBaseClient._make_api_call\u001b[0;34m(self, operation_name, api_params)\u001b[0m\n\u001b[1;32m    915\u001b[0m api_params \u001b[39m=\u001b[39m \u001b[39mself\u001b[39m\u001b[39m.\u001b[39m_emit_api_params(\n\u001b[1;32m    916\u001b[0m     api_params\u001b[39m=\u001b[39mapi_params,\n\u001b[1;32m    917\u001b[0m     operation_model\u001b[39m=\u001b[39moperation_model,\n\u001b[1;32m    918\u001b[0m     context\u001b[39m=\u001b[39mrequest_context,\n\u001b[1;32m    919\u001b[0m )\n\u001b[1;32m    920\u001b[0m endpoint_url, additional_headers \u001b[39m=\u001b[39m \u001b[39mself\u001b[39m\u001b[39m.\u001b[39m_resolve_endpoint_ruleset(\n\u001b[1;32m    921\u001b[0m     operation_model, api_params, request_context\n\u001b[1;32m    922\u001b[0m )\n\u001b[0;32m--> 923\u001b[0m request_dict \u001b[39m=\u001b[39m \u001b[39mself\u001b[39;49m\u001b[39m.\u001b[39;49m_convert_to_request_dict(\n\u001b[1;32m    924\u001b[0m     api_params\u001b[39m=\u001b[39;49mapi_params,\n\u001b[1;32m    925\u001b[0m     operation_model\u001b[39m=\u001b[39;49moperation_model,\n\u001b[1;32m    926\u001b[0m     endpoint_url\u001b[39m=\u001b[39;49mendpoint_url,\n\u001b[1;32m    927\u001b[0m     context\u001b[39m=\u001b[39;49mrequest_context,\n\u001b[1;32m    928\u001b[0m     headers\u001b[39m=\u001b[39;49madditional_headers,\n\u001b[1;32m    929\u001b[0m )\n\u001b[1;32m    930\u001b[0m resolve_checksum_context(request_dict, operation_model, api_params)\n\u001b[1;32m    932\u001b[0m service_id \u001b[39m=\u001b[39m \u001b[39mself\u001b[39m\u001b[39m.\u001b[39m_service_model\u001b[39m.\u001b[39mservice_id\u001b[39m.\u001b[39mhyphenize()\n",
      "File \u001b[0;32m~/Deleton/venv/lib/python3.10/site-packages/botocore/client.py:991\u001b[0m, in \u001b[0;36mBaseClient._convert_to_request_dict\u001b[0;34m(self, api_params, operation_model, endpoint_url, context, headers, set_user_agent_header)\u001b[0m\n\u001b[1;32m    982\u001b[0m \u001b[39mdef\u001b[39;00m \u001b[39m_convert_to_request_dict\u001b[39m(\n\u001b[1;32m    983\u001b[0m     \u001b[39mself\u001b[39m,\n\u001b[1;32m    984\u001b[0m     api_params,\n\u001b[0;32m   (...)\u001b[0m\n\u001b[1;32m    989\u001b[0m     set_user_agent_header\u001b[39m=\u001b[39m\u001b[39mTrue\u001b[39;00m,\n\u001b[1;32m    990\u001b[0m ):\n\u001b[0;32m--> 991\u001b[0m     request_dict \u001b[39m=\u001b[39m \u001b[39mself\u001b[39;49m\u001b[39m.\u001b[39;49m_serializer\u001b[39m.\u001b[39;49mserialize_to_request(\n\u001b[1;32m    992\u001b[0m         api_params, operation_model\n\u001b[1;32m    993\u001b[0m     )\n\u001b[1;32m    994\u001b[0m     \u001b[39mif\u001b[39;00m \u001b[39mnot\u001b[39;00m \u001b[39mself\u001b[39m\u001b[39m.\u001b[39m_client_config\u001b[39m.\u001b[39minject_host_prefix:\n\u001b[1;32m    995\u001b[0m         request_dict\u001b[39m.\u001b[39mpop(\u001b[39m'\u001b[39m\u001b[39mhost_prefix\u001b[39m\u001b[39m'\u001b[39m, \u001b[39mNone\u001b[39;00m)\n",
      "File \u001b[0;32m~/Deleton/venv/lib/python3.10/site-packages/botocore/validate.py:381\u001b[0m, in \u001b[0;36mParamValidationDecorator.serialize_to_request\u001b[0;34m(self, parameters, operation_model)\u001b[0m\n\u001b[1;32m    377\u001b[0m     report \u001b[39m=\u001b[39m \u001b[39mself\u001b[39m\u001b[39m.\u001b[39m_param_validator\u001b[39m.\u001b[39mvalidate(\n\u001b[1;32m    378\u001b[0m         parameters, operation_model\u001b[39m.\u001b[39minput_shape\n\u001b[1;32m    379\u001b[0m     )\n\u001b[1;32m    380\u001b[0m     \u001b[39mif\u001b[39;00m report\u001b[39m.\u001b[39mhas_errors():\n\u001b[0;32m--> 381\u001b[0m         \u001b[39mraise\u001b[39;00m ParamValidationError(report\u001b[39m=\u001b[39mreport\u001b[39m.\u001b[39mgenerate_report())\n\u001b[1;32m    382\u001b[0m \u001b[39mreturn\u001b[39;00m \u001b[39mself\u001b[39m\u001b[39m.\u001b[39m_serializer\u001b[39m.\u001b[39mserialize_to_request(\n\u001b[1;32m    383\u001b[0m     parameters, operation_model\n\u001b[1;32m    384\u001b[0m )\n",
      "\u001b[0;31mParamValidationError\u001b[0m: Parameter validation failed:\nUnknown parameter in Message: \"Attachments\", must be one of: Subject, Body"
     ]
    }
   ],
   "source": [
    "load_dotenv()\n",
    "config = os.environ\n",
    "session = boto3.Session(aws_access_key_id=config[\"ACCESS_KEY\"], aws_secret_access_key=config[\"SECRET_KEY\"])\n",
    "ses = session.client(\"ses\")\n",
    "email_recipients = {\"ToAddresses\": [\"trainee.dani.rahulan@sigmalabs.co.uk\"], \"CcAddresses\": [], \"BccAddresses\": []}\n",
    "print(\"before\")\n",
    "# pdfkit.from_file(\"./report_graph.html\", \"./report_graph.pdf\")\n",
    "# print(\"here\")\n",
    "with open(\"./gender_split.png\", 'rb') as file:\n",
    "    png_data = file.read()\n",
    "# png_data_encoded = png_data.encode('utf-8')\n",
    "message = {\"Subject\": {\"Data\": \"File attached\"}, \"Body\": {\"Html\": {\"Data\": html_content,}},'Attachments' :[{'Filename': 'gender_split.png', 'Content':png_data, 'ContentType': 'image/png', },]}\n",
    "# message['Attachments'] =  [{'Filename': 'gender_split.png', 'Content':png_data, 'ContentType': 'image/png', },]\n",
    "ses.send_email(Source=\"trainee.dani.rahulan@sigmalabs.co.uk\", Destination=email_recipients, Message=message)\n"
   ]
  },
  {
   "cell_type": "code",
   "execution_count": 36,
   "metadata": {},
   "outputs": [
    {
     "name": "stdout",
     "output_type": "stream",
     "text": [
      "{'message': 'mail sent successfully', 'status': 'success'}\n"
     ]
    }
   ],
   "source": [
    "import boto3\n",
    "from botocore.exceptions import ClientError\n",
    "from email.mime.multipart import MIMEMultipart\n",
    "from email.mime.text import MIMEText\n",
    "from email.mime.application import MIMEApplication\n",
    "load_dotenv()\n",
    "config = os.environ\n",
    "region = \"eu-west-2\"\n",
    "sws_user = config[\"ACCESS_KEY\"]\n",
    "sws_key = config[\"SECRET_KEY\"]\n",
    "subject = 'Sending email with Attachment '\n",
    "body = html_content\n",
    "\n",
    "client = boto3.client(service_name = 'ses', region_name = region, aws_access_key_id = sws_user, aws_secret_access_key = sws_key)\n",
    "\n",
    "   \n",
    "message = MIMEMultipart()\n",
    "message['Subject'] = subject\n",
    "message['From'] = \"trainee.dani.rahulan@sigmalabs.co.uk\"\n",
    "message['To'] = \"trainee.dani.rahulan@sigmalabs.co.uk\"\n",
    "\n",
    "# message body\n",
    "part = MIMEText(body, 'html')\n",
    "message.attach(part)\n",
    "\n",
    "attachmentUrl = \"./gender_split.png\"\n",
    "with open(\"./gender_split.png\", 'rb') as file:\n",
    "    part = MIMEApplication(file.read())\n",
    "    part.add_header(\"Content-Disposition\",\n",
    "                        \"attachment\",\n",
    "                        filename=attachmentUrl)\n",
    "message.attach(part)\n",
    "with open(\"./age.png\", 'rb') as file:\n",
    "    part = MIMEApplication(file.read())\n",
    "    part.add_header(\"Content-Disposition\",\n",
    "                        \"attachment\",\n",
    "                        filename=attachmentUrl)\n",
    "message.attach(part)\n",
    "with open(\"./heart.png\", 'rb') as file:\n",
    "    part = MIMEApplication(file.read())\n",
    "    part.add_header(\"Content-Disposition\",\n",
    "                        \"attachment\",\n",
    "                        filename=attachmentUrl)\n",
    "message.attach(part)\n",
    "with open(\"./power.png\", 'rb') as file:\n",
    "    part = MIMEApplication(file.read())\n",
    "    part.add_header(\"Content-Disposition\",\n",
    "                        \"attachment\",\n",
    "                        filename=attachmentUrl)\n",
    "message.attach(part)\n",
    "\n",
    "   \n",
    "destination = { 'ToAddresses' : [message['To']], 'CcAddresses' : [], 'BccAddresses' : []}\n",
    "\n",
    "try:\n",
    "    result = client.send_raw_email(Source = \"trainee.dani.rahulan@sigmalabs.co.uk\", Destinations = [\"trainee.dani.rahulan@sigmalabs.co.uk\", \"trainee.mohammed.simjee@sigmalabs.co.uk\", \"trainee.ben.corrigan@sigmalabs.co.uk\"], RawMessage = {'Data': message.as_string(),})\n",
    "    print( {'message': 'error','status' : 'fail'} if 'ErrorResponse' in result else {'message': 'mail sent successfully', 'status' : 'success'})\n",
    "except ClientError as e:\n",
    "    print ({'message': e.response['Error']['Message'],'status' : 'fail'})"
   ]
  }
 ],
 "metadata": {
  "kernelspec": {
   "display_name": "venv",
   "language": "python",
   "name": "python3"
  },
  "language_info": {
   "codemirror_mode": {
    "name": "ipython",
    "version": 3
   },
   "file_extension": ".py",
   "mimetype": "text/x-python",
   "name": "python",
   "nbconvert_exporter": "python",
   "pygments_lexer": "ipython3",
   "version": "3.10.9"
  },
  "orig_nbformat": 4,
  "vscode": {
   "interpreter": {
    "hash": "b7124a9e3ee4080bb1cf1aa993acb7c0fba0fc2446534e8d6c597540f0910bad"
   }
  }
 },
 "nbformat": 4,
 "nbformat_minor": 2
}
